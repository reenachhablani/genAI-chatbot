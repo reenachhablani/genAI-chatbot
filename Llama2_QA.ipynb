{
  "cells": [
    {
      "cell_type": "code",
      "execution_count": null,
      "id": "67ae4182-81cc-4607-b8ff-586b11b04fc9",
      "metadata": {
        "tags": [],
        "id": "67ae4182-81cc-4607-b8ff-586b11b04fc9",
        "outputId": "c413e11a-3f21-44ce-a3de-51af2bebb7a5"
      },
      "outputs": [
        {
          "name": "stdout",
          "output_type": "stream",
          "text": [
            "Requirement already satisfied: sagemaker in /opt/conda/lib/python3.8/site-packages (2.77.1)\n",
            "Collecting sagemaker\n",
            "  Using cached sagemaker-2.196.0.tar.gz (916 kB)\n",
            "  Preparing metadata (setup.py) ... \u001b[?25ldone\n",
            "\u001b[?25hRequirement already satisfied: pip in /opt/conda/lib/python3.8/site-packages (22.0.3)\n",
            "Collecting pip\n",
            "  Using cached pip-23.3.1-py3-none-any.whl (2.1 MB)\n",
            "Collecting attrs<24,>=23.1.0\n",
            "  Using cached attrs-23.1.0-py3-none-any.whl (61 kB)\n",
            "Collecting boto3<2.0,>=1.26.131\n",
            "  Using cached boto3-1.28.73-py3-none-any.whl (135 kB)\n",
            "Collecting cloudpickle==2.2.1\n",
            "  Using cached cloudpickle-2.2.1-py3-none-any.whl (25 kB)\n",
            "Requirement already satisfied: google-pasta in /opt/conda/lib/python3.8/site-packages (from sagemaker) (0.2.0)\n",
            "Requirement already satisfied: numpy<2.0,>=1.9.0 in /opt/conda/lib/python3.8/site-packages (from sagemaker) (1.22.2)\n",
            "Requirement already satisfied: protobuf<5.0,>=3.12 in /opt/conda/lib/python3.8/site-packages (from sagemaker) (3.19.4)\n",
            "Requirement already satisfied: smdebug_rulesconfig==1.0.1 in /opt/conda/lib/python3.8/site-packages (from sagemaker) (1.0.1)\n",
            "Requirement already satisfied: importlib-metadata<7.0,>=1.4.0 in /opt/conda/lib/python3.8/site-packages (from sagemaker) (4.11.2)\n",
            "Requirement already satisfied: packaging>=20.0 in /opt/conda/lib/python3.8/site-packages (from sagemaker) (21.3)\n",
            "Requirement already satisfied: pandas in /opt/conda/lib/python3.8/site-packages (from sagemaker) (1.4.1)\n",
            "Requirement already satisfied: pathos in /opt/conda/lib/python3.8/site-packages (from sagemaker) (0.2.8)\n",
            "Collecting schema\n",
            "  Using cached schema-0.7.5-py2.py3-none-any.whl (17 kB)\n",
            "Collecting PyYAML~=6.0\n",
            "  Downloading PyYAML-6.0.1-cp38-cp38-manylinux_2_17_x86_64.manylinux2014_x86_64.whl (736 kB)\n",
            "\u001b[2K     \u001b[90m━━━━━━━━━━━━━━━━━━━━━━━━━━━━━━━━━━━━━━━\u001b[0m \u001b[32m736.6/736.6 KB\u001b[0m \u001b[31m5.9 MB/s\u001b[0m eta \u001b[36m0:00:00\u001b[0m00:01\u001b[0m\n",
            "\u001b[?25hCollecting jsonschema\n",
            "  Downloading jsonschema-4.19.1-py3-none-any.whl (83 kB)\n",
            "\u001b[2K     \u001b[90m━━━━━━━━━━━━━━━━━━━━━━━━━━━━━━━━━━━━━━━\u001b[0m \u001b[32m83.3/83.3 KB\u001b[0m \u001b[31m923.9 kB/s\u001b[0m eta \u001b[36m0:00:00\u001b[0m00:01\u001b[0m\n",
            "\u001b[?25hRequirement already satisfied: platformdirs in /opt/conda/lib/python3.8/site-packages (from sagemaker) (2.5.1)\n",
            "Collecting tblib==1.7.0\n",
            "  Using cached tblib-1.7.0-py2.py3-none-any.whl (12 kB)\n",
            "Collecting s3transfer<0.8.0,>=0.7.0\n",
            "  Using cached s3transfer-0.7.0-py3-none-any.whl (79 kB)\n",
            "Collecting botocore<1.32.0,>=1.31.73\n",
            "  Using cached botocore-1.31.73-py3-none-any.whl (11.3 MB)\n",
            "Requirement already satisfied: jmespath<2.0.0,>=0.7.1 in /opt/conda/lib/python3.8/site-packages (from boto3<2.0,>=1.26.131->sagemaker) (0.10.0)\n",
            "Requirement already satisfied: zipp>=0.5 in /opt/conda/lib/python3.8/site-packages (from importlib-metadata<7.0,>=1.4.0->sagemaker) (3.7.0)\n",
            "Requirement already satisfied: pyparsing!=3.0.5,>=2.0.2 in /opt/conda/lib/python3.8/site-packages (from packaging>=20.0->sagemaker) (3.0.7)\n",
            "Requirement already satisfied: six in /opt/conda/lib/python3.8/site-packages (from google-pasta->sagemaker) (1.16.0)\n",
            "Collecting rpds-py>=0.7.1\n",
            "  Downloading rpds_py-0.10.6-cp38-cp38-manylinux_2_17_x86_64.manylinux2014_x86_64.whl (1.2 MB)\n",
            "\u001b[2K     \u001b[90m━━━━━━━━━━━━━━━━━━━━━━━━━━━━━━━━━━━━━━━━\u001b[0m \u001b[32m1.2/1.2 MB\u001b[0m \u001b[31m9.3 MB/s\u001b[0m eta \u001b[36m0:00:00\u001b[0m0:00:01\u001b[0m\n",
            "\u001b[?25hCollecting importlib-resources>=1.4.0\n",
            "  Downloading importlib_resources-6.1.0-py3-none-any.whl (33 kB)\n",
            "Collecting referencing>=0.28.4\n",
            "  Downloading referencing-0.30.2-py3-none-any.whl (25 kB)\n",
            "Collecting pkgutil-resolve-name>=1.3.10\n",
            "  Downloading pkgutil_resolve_name-1.3.10-py3-none-any.whl (4.7 kB)\n",
            "Collecting jsonschema-specifications>=2023.03.6\n",
            "  Downloading jsonschema_specifications-2023.7.1-py3-none-any.whl (17 kB)\n",
            "Requirement already satisfied: python-dateutil>=2.8.1 in /opt/conda/lib/python3.8/site-packages (from pandas->sagemaker) (2.8.2)\n",
            "Requirement already satisfied: pytz>=2020.1 in /opt/conda/lib/python3.8/site-packages (from pandas->sagemaker) (2021.3)\n",
            "Requirement already satisfied: dill>=0.3.4 in /opt/conda/lib/python3.8/site-packages (from pathos->sagemaker) (0.3.4)\n",
            "Requirement already satisfied: multiprocess>=0.70.12 in /opt/conda/lib/python3.8/site-packages (from pathos->sagemaker) (0.70.12.2)\n",
            "Requirement already satisfied: pox>=0.3.0 in /opt/conda/lib/python3.8/site-packages (from pathos->sagemaker) (0.3.0)\n",
            "Requirement already satisfied: ppft>=1.6.6.4 in /opt/conda/lib/python3.8/site-packages (from pathos->sagemaker) (1.6.6.4)\n",
            "Collecting contextlib2>=0.5.5\n",
            "  Using cached contextlib2-21.6.0-py2.py3-none-any.whl (13 kB)\n",
            "Requirement already satisfied: urllib3<1.27,>=1.25.4 in /opt/conda/lib/python3.8/site-packages (from botocore<1.32.0,>=1.31.73->boto3<2.0,>=1.26.131->sagemaker) (1.26.7)\n",
            "Building wheels for collected packages: sagemaker\n",
            "  Building wheel for sagemaker (setup.py) ... \u001b[?25ldone\n",
            "\u001b[?25h  Created wheel for sagemaker: filename=sagemaker-2.196.0-py2.py3-none-any.whl size=1223221 sha256=ea05888a6effaf54ccc01d8c9109693baf4b8794383e58ac4dc316c8a936b79d\n",
            "  Stored in directory: /root/.cache/pip/wheels/a2/50/d5/f3ab8e707d1feb17dbb587b22e0a49b2ed913fb973e8586657\n",
            "Successfully built sagemaker\n",
            "Installing collected packages: tblib, rpds-py, PyYAML, pkgutil-resolve-name, pip, importlib-resources, contextlib2, cloudpickle, attrs, schema, referencing, botocore, s3transfer, jsonschema-specifications, jsonschema, boto3, sagemaker\n",
            "  Attempting uninstall: PyYAML\n",
            "    Found existing installation: PyYAML 5.4.1\n",
            "    Uninstalling PyYAML-5.4.1:\n",
            "      Successfully uninstalled PyYAML-5.4.1\n",
            "  Attempting uninstall: pip\n",
            "    Found existing installation: pip 22.0.3\n",
            "    Uninstalling pip-22.0.3:\n",
            "      Successfully uninstalled pip-22.0.3\n",
            "  Attempting uninstall: cloudpickle\n",
            "    Found existing installation: cloudpickle 2.0.0\n",
            "    Uninstalling cloudpickle-2.0.0:\n",
            "      Successfully uninstalled cloudpickle-2.0.0\n",
            "  Attempting uninstall: attrs\n",
            "    Found existing installation: attrs 20.3.0\n",
            "    Uninstalling attrs-20.3.0:\n",
            "      Successfully uninstalled attrs-20.3.0\n",
            "  Attempting uninstall: botocore\n",
            "    Found existing installation: botocore 1.24.13\n",
            "    Uninstalling botocore-1.24.13:\n",
            "      Successfully uninstalled botocore-1.24.13\n",
            "  Attempting uninstall: s3transfer\n",
            "    Found existing installation: s3transfer 0.5.2\n",
            "    Uninstalling s3transfer-0.5.2:\n",
            "      Successfully uninstalled s3transfer-0.5.2\n",
            "  Attempting uninstall: boto3\n",
            "    Found existing installation: boto3 1.21.13\n",
            "    Uninstalling boto3-1.21.13:\n",
            "      Successfully uninstalled boto3-1.21.13\n",
            "  Attempting uninstall: sagemaker\n",
            "    Found existing installation: sagemaker 2.77.1\n",
            "    Uninstalling sagemaker-2.77.1:\n",
            "      Successfully uninstalled sagemaker-2.77.1\n",
            "\u001b[31mERROR: pip's dependency resolver does not currently take into account all the packages that are installed. This behaviour is the source of the following dependency conflicts.\n",
            "awscli 1.22.68 requires botocore==1.24.13, but you have botocore 1.31.73 which is incompatible.\n",
            "awscli 1.22.68 requires PyYAML<5.5,>=3.10, but you have pyyaml 6.0.1 which is incompatible.\n",
            "awscli 1.22.68 requires s3transfer<0.6.0,>=0.5.0, but you have s3transfer 0.7.0 which is incompatible.\u001b[0m\u001b[31m\n",
            "\u001b[0mSuccessfully installed PyYAML-6.0.1 attrs-23.1.0 boto3-1.28.73 botocore-1.31.73 cloudpickle-2.2.1 contextlib2-21.6.0 importlib-resources-6.1.0 jsonschema-4.19.1 jsonschema-specifications-2023.7.1 pip-23.3.1 pkgutil-resolve-name-1.3.10 referencing-0.30.2 rpds-py-0.10.6 s3transfer-0.7.0 sagemaker-2.196.0 schema-0.7.5 tblib-1.7.0\n",
            "\u001b[33mWARNING: Running pip as the 'root' user can result in broken permissions and conflicting behaviour with the system package manager. It is recommended to use a virtual environment instead: https://pip.pypa.io/warnings/venv\u001b[0m\u001b[33m\n",
            "\u001b[0mNote: you may need to restart the kernel to use updated packages.\n",
            "\u001b[33mWARNING: Running pip as the 'root' user can result in broken permissions and conflicting behaviour with the system package manager. It is recommended to use a virtual environment instead: https://pip.pypa.io/warnings/venv\u001b[0m\u001b[33m\n",
            "\u001b[0mNote: you may need to restart the kernel to use updated packages.\n",
            "\u001b[33mWARNING: Running pip as the 'root' user can result in broken permissions and conflicting behaviour with the system package manager. It is recommended to use a virtual environment instead: https://pip.pypa.io/warnings/venv\u001b[0m\u001b[33m\n",
            "\u001b[0mNote: you may need to restart the kernel to use updated packages.\n"
          ]
        }
      ],
      "source": [
        "## Installations\n",
        "\n",
        "%pip install sagemaker --upgrade pip\n",
        "%pip install --disable-pip-version-check \\\n",
        "    torch==1.13.1 \\\n",
        "    torchdata==0.5.1 --quiet\n",
        "\n",
        "%pip install \\\n",
        "    transformers==4.30.2 \\\n",
        "    datasets[s3]==2.13.0 --quiet"
      ]
    },
    {
      "cell_type": "code",
      "execution_count": null,
      "id": "db6eb669-6a57-413a-adc1-643b1d34384e",
      "metadata": {
        "tags": [],
        "id": "db6eb669-6a57-413a-adc1-643b1d34384e",
        "outputId": "791a28d8-7ed2-40fa-e35e-611981c7bbf4"
      },
      "outputs": [
        {
          "name": "stdout",
          "output_type": "stream",
          "text": [
            "Collecting bs4\n",
            "  Using cached bs4-0.0.1.tar.gz (1.1 kB)\n",
            "  Preparing metadata (setup.py) ... \u001b[?25ldone\n",
            "\u001b[?25hCollecting beautifulsoup4 (from bs4)\n",
            "  Using cached beautifulsoup4-4.12.2-py3-none-any.whl (142 kB)\n",
            "Collecting soupsieve>1.2 (from beautifulsoup4->bs4)\n",
            "  Using cached soupsieve-2.5-py3-none-any.whl.metadata (4.7 kB)\n",
            "Using cached soupsieve-2.5-py3-none-any.whl (36 kB)\n",
            "Building wheels for collected packages: bs4\n",
            "  Building wheel for bs4 (setup.py) ... \u001b[?25ldone\n",
            "\u001b[?25h  Created wheel for bs4: filename=bs4-0.0.1-py3-none-any.whl size=1272 sha256=7d761c4c2b74f32c3b4fcdda41471634169f967f34e51791f48e099e21f58c62\n",
            "  Stored in directory: /root/.cache/pip/wheels/75/78/21/68b124549c9bdc94f822c02fb9aa3578a669843f9767776bca\n",
            "Successfully built bs4\n",
            "Installing collected packages: soupsieve, beautifulsoup4, bs4\n",
            "Successfully installed beautifulsoup4-4.12.2 bs4-0.0.1 soupsieve-2.5\n",
            "\u001b[33mWARNING: Running pip as the 'root' user can result in broken permissions and conflicting behaviour with the system package manager. It is recommended to use a virtual environment instead: https://pip.pypa.io/warnings/venv\u001b[0m\u001b[33m\n",
            "\u001b[0m"
          ]
        }
      ],
      "source": [
        "!pip install bs4"
      ]
    },
    {
      "cell_type": "code",
      "execution_count": null,
      "id": "2e5da6c9-c892-4d5d-b9e1-23b2393a36b0",
      "metadata": {
        "tags": [],
        "id": "2e5da6c9-c892-4d5d-b9e1-23b2393a36b0",
        "outputId": "45368706-742c-404b-dc86-2f0327bb3e93"
      },
      "outputs": [
        {
          "name": "stdout",
          "output_type": "stream",
          "text": [
            "sagemaker.config INFO - Not applying SDK defaults from location: /etc/xdg/sagemaker/config.yaml\n",
            "sagemaker.config INFO - Not applying SDK defaults from location: /root/.config/sagemaker/config.yaml\n",
            "sagemaker.config INFO - Not applying SDK defaults from location: /etc/xdg/sagemaker/config.yaml\n",
            "sagemaker.config INFO - Not applying SDK defaults from location: /root/.config/sagemaker/config.yaml\n",
            "sagemaker.config INFO - Not applying SDK defaults from location: /etc/xdg/sagemaker/config.yaml\n",
            "sagemaker.config INFO - Not applying SDK defaults from location: /root/.config/sagemaker/config.yaml\n",
            "sagemaker.config INFO - Not applying SDK defaults from location: /etc/xdg/sagemaker/config.yaml\n",
            "sagemaker.config INFO - Not applying SDK defaults from location: /root/.config/sagemaker/config.yaml\n",
            "sagemaker role arn: arn:aws:iam::984567242006:role/service-role/AmazonSageMaker-ExecutionRole-20231022T130295\n",
            "sagemaker bucket: sagemaker-eu-north-1-984567242006\n",
            "sagemaker session region: eu-north-1\n"
          ]
        }
      ],
      "source": [
        "import sagemaker\n",
        "import boto3\n",
        "from sagemaker.huggingface import HuggingFace\n",
        "sess = sagemaker.Session()\n",
        "# sagemaker session bucket -> used for uploading data, models and logs\n",
        "# sagemaker will automatically create this bucket if it not exists\n",
        "sagemaker_session_bucket=None\n",
        "if sagemaker_session_bucket is None and sess is not None:\n",
        "    # set to default bucket if a bucket name is not given\n",
        "    sagemaker_session_bucket = sess.default_bucket()\n",
        "\n",
        "try:\n",
        "\trole = sagemaker.get_execution_role()\n",
        "except ValueError:\n",
        "\tiam = boto3.client('iam')\n",
        "\trole = iam.get_role(RoleName='sagemaker_execution_role')['Role']['Arn']\n",
        "\n",
        "sess = sagemaker.Session(default_bucket=sagemaker_session_bucket)\n",
        "\n",
        "print(f\"sagemaker role arn: {role}\")\n",
        "print(f\"sagemaker bucket: {sess.default_bucket()}\")\n",
        "print(f\"sagemaker session region: {sess.boto_region_name}\")"
      ]
    },
    {
      "cell_type": "markdown",
      "id": "8918b3c4-02f2-4fb0-86e3-ec437c0cff1d",
      "metadata": {
        "id": "8918b3c4-02f2-4fb0-86e3-ec437c0cff1d"
      },
      "source": [
        "# Preprocessing"
      ]
    },
    {
      "cell_type": "code",
      "execution_count": null,
      "id": "7f6edfdb-818b-4c1c-bf16-2d85f3f0d79a",
      "metadata": {
        "tags": [],
        "id": "7f6edfdb-818b-4c1c-bf16-2d85f3f0d79a",
        "outputId": "b376fe32-7a74-4dc7-9173-113be898f1d5"
      },
      "outputs": [
        {
          "name": "stdout",
          "output_type": "stream",
          "text": [
            "https://addons.mozilla.org/en-US/firefox/search/?promoted=recommended&sort=random&type=extension&page=1\n",
            "https://addons.mozilla.org/en-US/firefox/search/?promoted=recommended&sort=random&type=extension&page=2\n",
            "https://addons.mozilla.org/en-US/firefox/search/?promoted=recommended&sort=random&type=extension&page=3\n",
            "https://addons.mozilla.org/en-US/firefox/search/?promoted=recommended&sort=random&type=extension&page=4\n",
            "https://addons.mozilla.org/en-US/firefox/search/?promoted=recommended&sort=random&type=extension&page=5\n"
          ]
        }
      ],
      "source": [
        "from datasets import load_dataset\n",
        "#from random import randrange\n",
        "\n",
        "# Load dataset from the hub\n",
        "import requests\n",
        "from bs4 import BeautifulSoup\n",
        "import pandas as pd\n",
        "\n",
        "Add_on_dict = []\n",
        "df = pd.DataFrame(columns=['Name','Link','Description'])\n",
        "#title = soup.find('h2',{'class':'SearchResult-name'}).find('a').text\n",
        "\n",
        "page = 1\n",
        "while page != 6:\n",
        "    url = f\"https://addons.mozilla.org/en-US/firefox/search/?promoted=recommended&sort=random&type=extension&page={page}\"\n",
        "    print(url)\n",
        "    response = requests.get(url)\n",
        "    data = response.text\n",
        "    soup = BeautifulSoup(data, \"html.parser\")\n",
        "    for title in soup.find_all(\"div\",{'class':'SearchResult-contents'}):\n",
        "        row_dict = {'Name' : title.find(\"a\").text,'Link': title.find(\"a\").get('href'), 'Description': title.find(\"p\",{'class':\"SearchResult-summary\"}).get_text()}\n",
        "        Add_on_dict.append(row_dict)\n",
        "\n",
        "    page = page+1"
      ]
    },
    {
      "cell_type": "code",
      "execution_count": null,
      "id": "cae36fb0-6ed7-464f-8b19-12ff82da90d9",
      "metadata": {
        "tags": [],
        "id": "cae36fb0-6ed7-464f-8b19-12ff82da90d9"
      },
      "outputs": [],
      "source": [
        "df = pd.DataFrame.from_dict(Add_on_dict)\n",
        "#df.head()\n",
        "\n",
        "import pyarrow as pa\n",
        "import pyarrow.dataset as ds\n",
        "import pandas as pd\n",
        "from datasets import Dataset\n",
        "\n",
        "dataset = ds.dataset(pa.Table.from_pandas(df).to_batches())\n",
        "\n",
        "### convert to Huggingface dataset\n",
        "dataset = Dataset(pa.Table.from_pandas(df))"
      ]
    },
    {
      "cell_type": "code",
      "execution_count": null,
      "id": "f0c3c235-282c-4526-a063-1644a6450a16",
      "metadata": {
        "tags": [],
        "id": "f0c3c235-282c-4526-a063-1644a6450a16",
        "outputId": "427eb5fd-74b3-43a0-93c7-c11a479215c2"
      },
      "outputs": [
        {
          "data": {
            "text/plain": [
              "Dataset({\n",
              "    features: ['Name', 'Link', 'Description'],\n",
              "    num_rows: 108\n",
              "})"
            ]
          },
          "execution_count": 7,
          "metadata": {},
          "output_type": "execute_result"
        }
      ],
      "source": [
        "dataset"
      ]
    },
    {
      "cell_type": "code",
      "execution_count": null,
      "id": "37ef4def-bd71-4828-9ff1-a71cbd8b4f6b",
      "metadata": {
        "tags": [],
        "id": "37ef4def-bd71-4828-9ff1-a71cbd8b4f6b"
      },
      "outputs": [],
      "source": [
        "def format_dolly(sample):\n",
        "    instruction = f\"### Description\\n{sample['Description']}\"\n",
        "    response = f\"### Answer\\n{sample['Name']}\\n{sample['Link']}\"\n",
        "    # join all the parts together\n",
        "    prompt = \"\\n\\n\".join([i for i in [instruction, response] if i is not None])\n",
        "    return prompt"
      ]
    },
    {
      "cell_type": "code",
      "execution_count": null,
      "id": "ce9a3e3a-7a9d-4fb2-9d11-23c7eda9b963",
      "metadata": {
        "tags": [],
        "id": "ce9a3e3a-7a9d-4fb2-9d11-23c7eda9b963",
        "outputId": "460b75ce-9e0d-428e-e5ec-707cdf1b26b8"
      },
      "outputs": [
        {
          "name": "stdout",
          "output_type": "stream",
          "text": [
            "### Description\n",
            "Scroll page without touching scroll-bar! \n",
            "Press Middle (Right / Left) mouse button anywhere on the page to scroll just like with scrollbar.\n",
            "\n",
            "Features also:\n",
            "- \"grab and drag\" scrolling\n",
            "- customizable scrollbars!\n",
            "- the Momentum auto-scroll\n",
            "\n",
            "### Answer\n",
            "ScrollAnywhere\n",
            "/en-US/firefox/addon/scroll_anywhere/?utm_source=addons.mozilla.org&utm_medium=referral&utm_content=featured\n"
          ]
        }
      ],
      "source": [
        "from random import randrange\n",
        "\n",
        "print(format_dolly(dataset[randrange(len(dataset))]))"
      ]
    },
    {
      "cell_type": "code",
      "execution_count": null,
      "id": "bf41bf42-b2c5-44ee-b95b-49159b1400a3",
      "metadata": {
        "tags": [],
        "id": "bf41bf42-b2c5-44ee-b95b-49159b1400a3"
      },
      "outputs": [],
      "source": [
        "from transformers import AutoTokenizer\n",
        "\n",
        "model_id = \"tiiuae/falcon-40b\" # sharded weights\n",
        "tokenizer = AutoTokenizer.from_pretrained(model_id, trust_remote_code=True)\n",
        "tokenizer.pad_token = tokenizer.eos_token"
      ]
    },
    {
      "cell_type": "code",
      "execution_count": null,
      "id": "36aa316b-d505-4649-82d0-94a85e167e1b",
      "metadata": {
        "tags": [],
        "id": "36aa316b-d505-4649-82d0-94a85e167e1b"
      },
      "outputs": [],
      "source": [
        "from random import randint\n",
        "from itertools import chain\n",
        "from functools import partial\n",
        "\n",
        "\n",
        "\n",
        "# template dataset to add prompt to each sample\n",
        "def template_dataset(sample):\n",
        "    sample[\"text\"] = f\"{format_dolly(sample)}{tokenizer.eos_token}\"\n",
        "    return sample\n",
        "\n",
        "\n",
        "# apply prompt template per sample\n",
        "dataset = dataset.map(template_dataset, remove_columns=list(dataset.features))\n",
        "# print random sample\n",
        "print(dataset[randint(0, len(dataset))][\"text\"])\n",
        "\n",
        "# empty list to save remainder from batches to use in next batch\n",
        "remainder = {\"input_ids\": [], \"attention_mask\": [], \"token_type_ids\": []}\n",
        "\n",
        "def chunk(sample, chunk_length=2048):\n",
        "    # define global remainder variable to save remainder from batches to use in next batch\n",
        "    global remainder\n",
        "    # Concatenate all texts and add remainder from previous batch\n",
        "    concatenated_examples = {k: list(chain(*sample[k])) for k in sample.keys()}\n",
        "    concatenated_examples = {k: remainder[k] + concatenated_examples[k] for k in concatenated_examples.keys()}\n",
        "    # get total number of tokens for batch\n",
        "    batch_total_length = len(concatenated_examples[list(sample.keys())[0]])\n",
        "\n",
        "    # get max number of chunks for batch\n",
        "    if batch_total_length >= chunk_length:\n",
        "        batch_chunk_length = (batch_total_length // chunk_length) * chunk_length\n",
        "\n",
        "    # Split by chunks of max_len.\n",
        "    result = {\n",
        "        k: [t[i : i + chunk_length] for i in range(0, batch_chunk_length, chunk_length)]\n",
        "        for k, t in concatenated_examples.items()\n",
        "    }\n",
        "    # add remainder to global variable for next batch\n",
        "    remainder = {k: concatenated_examples[k][batch_chunk_length:] for k in concatenated_examples.keys()}\n",
        "    # prepare labels\n",
        "    result[\"labels\"] = result[\"input_ids\"].copy()\n",
        "    return result\n",
        "\n",
        "\n",
        "# tokenize and chunk dataset\n",
        "lm_dataset = dataset.map(\n",
        "    lambda sample: tokenizer(sample[\"text\"]), batched=True, remove_columns=list(dataset.features)\n",
        ").map(\n",
        "    partial(chunk, chunk_length=2048),\n",
        "    batched=True,\n",
        ")\n",
        "\n",
        "# Print total number of samples\n",
        "print(f\"Total number of samples: {len(lm_dataset)}\")"
      ]
    },
    {
      "cell_type": "code",
      "execution_count": null,
      "id": "d3286693-304c-4763-a2db-6464befe9003",
      "metadata": {
        "tags": [],
        "id": "d3286693-304c-4763-a2db-6464befe9003",
        "outputId": "40100c15-4de7-44c2-a1c3-0ec73306bcc6"
      },
      "outputs": [
        {
          "name": "stderr",
          "output_type": "stream",
          "text": [
            "                                                                                     "
          ]
        },
        {
          "name": "stdout",
          "output_type": "stream",
          "text": [
            "uploaded data to:\n",
            "training dataset to: s3://sagemaker-eu-north-1-984567242006/processed/dolly/train\n"
          ]
        },
        {
          "name": "stderr",
          "output_type": "stream",
          "text": [
            "\r"
          ]
        }
      ],
      "source": [
        "# save train_dataset to s3\n",
        "training_input_path = f's3://{sess.default_bucket()}/processed/dolly/train'\n",
        "lm_dataset.save_to_disk(training_input_path)\n",
        "\n",
        "print(\"uploaded data to:\")\n",
        "print(f\"training dataset to: {training_input_path}\")"
      ]
    },
    {
      "cell_type": "code",
      "execution_count": null,
      "id": "1328fc6d-14f4-4d22-9788-5be19e0869f5",
      "metadata": {
        "tags": [],
        "id": "1328fc6d-14f4-4d22-9788-5be19e0869f5",
        "outputId": "3a0e7ebb-9696-498f-d74e-ec4f545881e3"
      },
      "outputs": [
        {
          "name": "stdout",
          "output_type": "stream",
          "text": [
            "sagemaker.config INFO - Not applying SDK defaults from location: /etc/xdg/sagemaker/config.yaml\n",
            "sagemaker.config INFO - Not applying SDK defaults from location: /root/.config/sagemaker/config.yaml\n"
          ]
        }
      ],
      "source": [
        "import time\n",
        "# define Training Job Name\n",
        "job_name = f'huggingface-qlora-{time.strftime(\"%Y-%m-%d-%H-%M-%S\", time.localtime())}'\n",
        "\n",
        "from sagemaker.huggingface import HuggingFace\n",
        "\n",
        "# hyperparameters, which are passed into the training job\n",
        "hyperparameters ={\n",
        "  'model_id': model_id,                                # pre-trained model\n",
        "  'dataset_path': '/opt/ml/input/data/training', # path where sagemaker will save training dataset\n",
        "  'epochs': 3,                                         # number of training epochs\n",
        "  'per_device_train_batch_size': 4,                    # batch size for training\n",
        "  'lr': 2e-4,                                          # learning rate used during training\n",
        "}\n",
        "\n",
        "# create the Estimator\n",
        "huggingface_estimator = HuggingFace(\n",
        "    entry_point          = 'run_clm.py',      # train script\n",
        "    source_dir           = 'scripts',         # directory which includes all the files needed for training\n",
        "    instance_type        = 'ml.m5.xlarge', # instances type used for the training job\n",
        "    instance_count       = 1,                 # the number of instances used for training\n",
        "    base_job_name        = job_name,          # the name of the training job\n",
        "    role                 = role,              # Iam role used in training job to access AWS ressources, e.g. S3\n",
        "    volume_size          = 300,               # the size of the EBS volume in GB\n",
        "    transformers_version = '4.30',            # the transformers version used in the training job\n",
        "    pytorch_version      = '1.0',            # the pytorch_version version used in the training job\n",
        "    py_version           = 'py310',            # the python version used in the training job\n",
        "    hyperparameters      =  hyperparameters,\n",
        "    environment          = { \"HUGGINGFACE_HUB_CACHE\": \"/tmp/.cache\" }, # set env variable to cache models in /tmp\n",
        ")"
      ]
    },
    {
      "cell_type": "code",
      "execution_count": null,
      "id": "4091971b-1a7e-4480-af27-49f827849ee6",
      "metadata": {
        "tags": [],
        "id": "4091971b-1a7e-4480-af27-49f827849ee6"
      },
      "outputs": [],
      "source": [
        "# define a data input dictonary with our uploaded s3 uris\n",
        "data = {'training': training_input_path}\n",
        "\n",
        "# starting the train job with our uploaded datasets as input\n",
        "huggingface_estimator.fit(data, wait=True)"
      ]
    },
    {
      "cell_type": "code",
      "execution_count": null,
      "id": "a1a7305b-d746-4c51-bb59-4d42dc011d0a",
      "metadata": {
        "id": "a1a7305b-d746-4c51-bb59-4d42dc011d0a"
      },
      "outputs": [],
      "source": []
    }
  ],
  "metadata": {
    "availableInstances": [
      {
        "_defaultOrder": 0,
        "_isFastLaunch": true,
        "category": "General purpose",
        "gpuNum": 0,
        "hideHardwareSpecs": false,
        "memoryGiB": 4,
        "name": "ml.t3.medium",
        "vcpuNum": 2
      },
      {
        "_defaultOrder": 1,
        "_isFastLaunch": false,
        "category": "General purpose",
        "gpuNum": 0,
        "hideHardwareSpecs": false,
        "memoryGiB": 8,
        "name": "ml.t3.large",
        "vcpuNum": 2
      },
      {
        "_defaultOrder": 2,
        "_isFastLaunch": false,
        "category": "General purpose",
        "gpuNum": 0,
        "hideHardwareSpecs": false,
        "memoryGiB": 16,
        "name": "ml.t3.xlarge",
        "vcpuNum": 4
      },
      {
        "_defaultOrder": 3,
        "_isFastLaunch": false,
        "category": "General purpose",
        "gpuNum": 0,
        "hideHardwareSpecs": false,
        "memoryGiB": 32,
        "name": "ml.t3.2xlarge",
        "vcpuNum": 8
      },
      {
        "_defaultOrder": 4,
        "_isFastLaunch": true,
        "category": "General purpose",
        "gpuNum": 0,
        "hideHardwareSpecs": false,
        "memoryGiB": 8,
        "name": "ml.m5.large",
        "vcpuNum": 2
      },
      {
        "_defaultOrder": 5,
        "_isFastLaunch": false,
        "category": "General purpose",
        "gpuNum": 0,
        "hideHardwareSpecs": false,
        "memoryGiB": 16,
        "name": "ml.m5.xlarge",
        "vcpuNum": 4
      },
      {
        "_defaultOrder": 6,
        "_isFastLaunch": false,
        "category": "General purpose",
        "gpuNum": 0,
        "hideHardwareSpecs": false,
        "memoryGiB": 32,
        "name": "ml.m5.2xlarge",
        "vcpuNum": 8
      },
      {
        "_defaultOrder": 7,
        "_isFastLaunch": false,
        "category": "General purpose",
        "gpuNum": 0,
        "hideHardwareSpecs": false,
        "memoryGiB": 64,
        "name": "ml.m5.4xlarge",
        "vcpuNum": 16
      },
      {
        "_defaultOrder": 8,
        "_isFastLaunch": false,
        "category": "General purpose",
        "gpuNum": 0,
        "hideHardwareSpecs": false,
        "memoryGiB": 128,
        "name": "ml.m5.8xlarge",
        "vcpuNum": 32
      },
      {
        "_defaultOrder": 9,
        "_isFastLaunch": false,
        "category": "General purpose",
        "gpuNum": 0,
        "hideHardwareSpecs": false,
        "memoryGiB": 192,
        "name": "ml.m5.12xlarge",
        "vcpuNum": 48
      },
      {
        "_defaultOrder": 10,
        "_isFastLaunch": false,
        "category": "General purpose",
        "gpuNum": 0,
        "hideHardwareSpecs": false,
        "memoryGiB": 256,
        "name": "ml.m5.16xlarge",
        "vcpuNum": 64
      },
      {
        "_defaultOrder": 11,
        "_isFastLaunch": false,
        "category": "General purpose",
        "gpuNum": 0,
        "hideHardwareSpecs": false,
        "memoryGiB": 384,
        "name": "ml.m5.24xlarge",
        "vcpuNum": 96
      },
      {
        "_defaultOrder": 12,
        "_isFastLaunch": false,
        "category": "General purpose",
        "gpuNum": 0,
        "hideHardwareSpecs": false,
        "memoryGiB": 8,
        "name": "ml.m5d.large",
        "vcpuNum": 2
      },
      {
        "_defaultOrder": 13,
        "_isFastLaunch": false,
        "category": "General purpose",
        "gpuNum": 0,
        "hideHardwareSpecs": false,
        "memoryGiB": 16,
        "name": "ml.m5d.xlarge",
        "vcpuNum": 4
      },
      {
        "_defaultOrder": 14,
        "_isFastLaunch": false,
        "category": "General purpose",
        "gpuNum": 0,
        "hideHardwareSpecs": false,
        "memoryGiB": 32,
        "name": "ml.m5d.2xlarge",
        "vcpuNum": 8
      },
      {
        "_defaultOrder": 15,
        "_isFastLaunch": false,
        "category": "General purpose",
        "gpuNum": 0,
        "hideHardwareSpecs": false,
        "memoryGiB": 64,
        "name": "ml.m5d.4xlarge",
        "vcpuNum": 16
      },
      {
        "_defaultOrder": 16,
        "_isFastLaunch": false,
        "category": "General purpose",
        "gpuNum": 0,
        "hideHardwareSpecs": false,
        "memoryGiB": 128,
        "name": "ml.m5d.8xlarge",
        "vcpuNum": 32
      },
      {
        "_defaultOrder": 17,
        "_isFastLaunch": false,
        "category": "General purpose",
        "gpuNum": 0,
        "hideHardwareSpecs": false,
        "memoryGiB": 192,
        "name": "ml.m5d.12xlarge",
        "vcpuNum": 48
      },
      {
        "_defaultOrder": 18,
        "_isFastLaunch": false,
        "category": "General purpose",
        "gpuNum": 0,
        "hideHardwareSpecs": false,
        "memoryGiB": 256,
        "name": "ml.m5d.16xlarge",
        "vcpuNum": 64
      },
      {
        "_defaultOrder": 19,
        "_isFastLaunch": false,
        "category": "General purpose",
        "gpuNum": 0,
        "hideHardwareSpecs": false,
        "memoryGiB": 384,
        "name": "ml.m5d.24xlarge",
        "vcpuNum": 96
      },
      {
        "_defaultOrder": 20,
        "_isFastLaunch": false,
        "category": "General purpose",
        "gpuNum": 0,
        "hideHardwareSpecs": true,
        "memoryGiB": 0,
        "name": "ml.geospatial.interactive",
        "supportedImageNames": [
          "sagemaker-geospatial-v1-0"
        ],
        "vcpuNum": 0
      },
      {
        "_defaultOrder": 21,
        "_isFastLaunch": true,
        "category": "Compute optimized",
        "gpuNum": 0,
        "hideHardwareSpecs": false,
        "memoryGiB": 4,
        "name": "ml.c5.large",
        "vcpuNum": 2
      },
      {
        "_defaultOrder": 22,
        "_isFastLaunch": false,
        "category": "Compute optimized",
        "gpuNum": 0,
        "hideHardwareSpecs": false,
        "memoryGiB": 8,
        "name": "ml.c5.xlarge",
        "vcpuNum": 4
      },
      {
        "_defaultOrder": 23,
        "_isFastLaunch": false,
        "category": "Compute optimized",
        "gpuNum": 0,
        "hideHardwareSpecs": false,
        "memoryGiB": 16,
        "name": "ml.c5.2xlarge",
        "vcpuNum": 8
      },
      {
        "_defaultOrder": 24,
        "_isFastLaunch": false,
        "category": "Compute optimized",
        "gpuNum": 0,
        "hideHardwareSpecs": false,
        "memoryGiB": 32,
        "name": "ml.c5.4xlarge",
        "vcpuNum": 16
      },
      {
        "_defaultOrder": 25,
        "_isFastLaunch": false,
        "category": "Compute optimized",
        "gpuNum": 0,
        "hideHardwareSpecs": false,
        "memoryGiB": 72,
        "name": "ml.c5.9xlarge",
        "vcpuNum": 36
      },
      {
        "_defaultOrder": 26,
        "_isFastLaunch": false,
        "category": "Compute optimized",
        "gpuNum": 0,
        "hideHardwareSpecs": false,
        "memoryGiB": 96,
        "name": "ml.c5.12xlarge",
        "vcpuNum": 48
      },
      {
        "_defaultOrder": 27,
        "_isFastLaunch": false,
        "category": "Compute optimized",
        "gpuNum": 0,
        "hideHardwareSpecs": false,
        "memoryGiB": 144,
        "name": "ml.c5.18xlarge",
        "vcpuNum": 72
      },
      {
        "_defaultOrder": 28,
        "_isFastLaunch": false,
        "category": "Compute optimized",
        "gpuNum": 0,
        "hideHardwareSpecs": false,
        "memoryGiB": 192,
        "name": "ml.c5.24xlarge",
        "vcpuNum": 96
      },
      {
        "_defaultOrder": 29,
        "_isFastLaunch": true,
        "category": "Accelerated computing",
        "gpuNum": 1,
        "hideHardwareSpecs": false,
        "memoryGiB": 16,
        "name": "ml.g4dn.xlarge",
        "vcpuNum": 4
      },
      {
        "_defaultOrder": 30,
        "_isFastLaunch": false,
        "category": "Accelerated computing",
        "gpuNum": 1,
        "hideHardwareSpecs": false,
        "memoryGiB": 32,
        "name": "ml.g4dn.2xlarge",
        "vcpuNum": 8
      },
      {
        "_defaultOrder": 31,
        "_isFastLaunch": false,
        "category": "Accelerated computing",
        "gpuNum": 1,
        "hideHardwareSpecs": false,
        "memoryGiB": 64,
        "name": "ml.g4dn.4xlarge",
        "vcpuNum": 16
      },
      {
        "_defaultOrder": 32,
        "_isFastLaunch": false,
        "category": "Accelerated computing",
        "gpuNum": 1,
        "hideHardwareSpecs": false,
        "memoryGiB": 128,
        "name": "ml.g4dn.8xlarge",
        "vcpuNum": 32
      },
      {
        "_defaultOrder": 33,
        "_isFastLaunch": false,
        "category": "Accelerated computing",
        "gpuNum": 4,
        "hideHardwareSpecs": false,
        "memoryGiB": 192,
        "name": "ml.g4dn.12xlarge",
        "vcpuNum": 48
      },
      {
        "_defaultOrder": 34,
        "_isFastLaunch": false,
        "category": "Accelerated computing",
        "gpuNum": 1,
        "hideHardwareSpecs": false,
        "memoryGiB": 256,
        "name": "ml.g4dn.16xlarge",
        "vcpuNum": 64
      },
      {
        "_defaultOrder": 35,
        "_isFastLaunch": false,
        "category": "Accelerated computing",
        "gpuNum": 1,
        "hideHardwareSpecs": false,
        "memoryGiB": 61,
        "name": "ml.p3.2xlarge",
        "vcpuNum": 8
      },
      {
        "_defaultOrder": 36,
        "_isFastLaunch": false,
        "category": "Accelerated computing",
        "gpuNum": 4,
        "hideHardwareSpecs": false,
        "memoryGiB": 244,
        "name": "ml.p3.8xlarge",
        "vcpuNum": 32
      },
      {
        "_defaultOrder": 37,
        "_isFastLaunch": false,
        "category": "Accelerated computing",
        "gpuNum": 8,
        "hideHardwareSpecs": false,
        "memoryGiB": 488,
        "name": "ml.p3.16xlarge",
        "vcpuNum": 64
      },
      {
        "_defaultOrder": 38,
        "_isFastLaunch": false,
        "category": "Accelerated computing",
        "gpuNum": 8,
        "hideHardwareSpecs": false,
        "memoryGiB": 768,
        "name": "ml.p3dn.24xlarge",
        "vcpuNum": 96
      },
      {
        "_defaultOrder": 39,
        "_isFastLaunch": false,
        "category": "Memory Optimized",
        "gpuNum": 0,
        "hideHardwareSpecs": false,
        "memoryGiB": 16,
        "name": "ml.r5.large",
        "vcpuNum": 2
      },
      {
        "_defaultOrder": 40,
        "_isFastLaunch": false,
        "category": "Memory Optimized",
        "gpuNum": 0,
        "hideHardwareSpecs": false,
        "memoryGiB": 32,
        "name": "ml.r5.xlarge",
        "vcpuNum": 4
      },
      {
        "_defaultOrder": 41,
        "_isFastLaunch": false,
        "category": "Memory Optimized",
        "gpuNum": 0,
        "hideHardwareSpecs": false,
        "memoryGiB": 64,
        "name": "ml.r5.2xlarge",
        "vcpuNum": 8
      },
      {
        "_defaultOrder": 42,
        "_isFastLaunch": false,
        "category": "Memory Optimized",
        "gpuNum": 0,
        "hideHardwareSpecs": false,
        "memoryGiB": 128,
        "name": "ml.r5.4xlarge",
        "vcpuNum": 16
      },
      {
        "_defaultOrder": 43,
        "_isFastLaunch": false,
        "category": "Memory Optimized",
        "gpuNum": 0,
        "hideHardwareSpecs": false,
        "memoryGiB": 256,
        "name": "ml.r5.8xlarge",
        "vcpuNum": 32
      },
      {
        "_defaultOrder": 44,
        "_isFastLaunch": false,
        "category": "Memory Optimized",
        "gpuNum": 0,
        "hideHardwareSpecs": false,
        "memoryGiB": 384,
        "name": "ml.r5.12xlarge",
        "vcpuNum": 48
      },
      {
        "_defaultOrder": 45,
        "_isFastLaunch": false,
        "category": "Memory Optimized",
        "gpuNum": 0,
        "hideHardwareSpecs": false,
        "memoryGiB": 512,
        "name": "ml.r5.16xlarge",
        "vcpuNum": 64
      },
      {
        "_defaultOrder": 46,
        "_isFastLaunch": false,
        "category": "Memory Optimized",
        "gpuNum": 0,
        "hideHardwareSpecs": false,
        "memoryGiB": 768,
        "name": "ml.r5.24xlarge",
        "vcpuNum": 96
      },
      {
        "_defaultOrder": 47,
        "_isFastLaunch": false,
        "category": "Accelerated computing",
        "gpuNum": 1,
        "hideHardwareSpecs": false,
        "memoryGiB": 16,
        "name": "ml.g5.xlarge",
        "vcpuNum": 4
      },
      {
        "_defaultOrder": 48,
        "_isFastLaunch": false,
        "category": "Accelerated computing",
        "gpuNum": 1,
        "hideHardwareSpecs": false,
        "memoryGiB": 32,
        "name": "ml.g5.2xlarge",
        "vcpuNum": 8
      },
      {
        "_defaultOrder": 49,
        "_isFastLaunch": false,
        "category": "Accelerated computing",
        "gpuNum": 1,
        "hideHardwareSpecs": false,
        "memoryGiB": 64,
        "name": "ml.g5.4xlarge",
        "vcpuNum": 16
      },
      {
        "_defaultOrder": 50,
        "_isFastLaunch": false,
        "category": "Accelerated computing",
        "gpuNum": 1,
        "hideHardwareSpecs": false,
        "memoryGiB": 128,
        "name": "ml.g5.8xlarge",
        "vcpuNum": 32
      },
      {
        "_defaultOrder": 51,
        "_isFastLaunch": false,
        "category": "Accelerated computing",
        "gpuNum": 1,
        "hideHardwareSpecs": false,
        "memoryGiB": 256,
        "name": "ml.g5.16xlarge",
        "vcpuNum": 64
      },
      {
        "_defaultOrder": 52,
        "_isFastLaunch": false,
        "category": "Accelerated computing",
        "gpuNum": 4,
        "hideHardwareSpecs": false,
        "memoryGiB": 192,
        "name": "ml.g5.12xlarge",
        "vcpuNum": 48
      },
      {
        "_defaultOrder": 53,
        "_isFastLaunch": false,
        "category": "Accelerated computing",
        "gpuNum": 4,
        "hideHardwareSpecs": false,
        "memoryGiB": 384,
        "name": "ml.g5.24xlarge",
        "vcpuNum": 96
      },
      {
        "_defaultOrder": 54,
        "_isFastLaunch": false,
        "category": "Accelerated computing",
        "gpuNum": 8,
        "hideHardwareSpecs": false,
        "memoryGiB": 768,
        "name": "ml.g5.48xlarge",
        "vcpuNum": 192
      },
      {
        "_defaultOrder": 55,
        "_isFastLaunch": false,
        "category": "Accelerated computing",
        "gpuNum": 8,
        "hideHardwareSpecs": false,
        "memoryGiB": 1152,
        "name": "ml.p4d.24xlarge",
        "vcpuNum": 96
      },
      {
        "_defaultOrder": 56,
        "_isFastLaunch": false,
        "category": "Accelerated computing",
        "gpuNum": 8,
        "hideHardwareSpecs": false,
        "memoryGiB": 1152,
        "name": "ml.p4de.24xlarge",
        "vcpuNum": 96
      }
    ],
    "kernelspec": {
      "display_name": "Python 3 (Data Science 3.0)",
      "language": "python",
      "name": "python3__SAGEMAKER_INTERNAL__arn:aws:sagemaker:eu-north-1:243637512696:image/sagemaker-data-science-310-v1"
    },
    "language_info": {
      "codemirror_mode": {
        "name": "ipython",
        "version": 3
      },
      "file_extension": ".py",
      "mimetype": "text/x-python",
      "name": "python",
      "nbconvert_exporter": "python",
      "pygments_lexer": "ipython3",
      "version": "3.10.6"
    },
    "colab": {
      "provenance": []
    }
  },
  "nbformat": 4,
  "nbformat_minor": 5
}